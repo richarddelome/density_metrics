{
 "cells": [
  {
   "cell_type": "code",
   "execution_count": 203,
   "metadata": {},
   "outputs": [],
   "source": [
    "import glob \n",
    "import gdal\n",
    "import geopandas as gpd\n",
    "import fiona "
   ]
  },
  {
   "cell_type": "markdown",
   "metadata": {},
   "source": [
    "### Gadm level 0"
   ]
  },
  {
   "cell_type": "code",
   "execution_count": 275,
   "metadata": {},
   "outputs": [
    {
     "name": "stderr",
     "output_type": "stream",
     "text": [
      "/home/riri/miniconda3/envs/geo_env/lib/python3.9/site-packages/geopandas/geodataframe.py:422: RuntimeWarning: Sequential read of iterator was interrupted. Resetting iterator. This can negatively impact the performance.\n",
      "  for feature in features_lst:\n"
     ]
    }
   ],
   "source": [
    "files = glob.glob(\"/home/riri/Documents/projects/pwd/Density_metrics/output/*\")\n",
    "ghs_path = '/home/riri/Documents/projects/pwd/Density_metrics/output/ghsl_gadm_level0.csv'\n",
    "gpw_path = '/home/riri/Documents/projects/pwd/Density_metrics/output/gpw_gadm_level0.csv'\n",
    "worldpop_path = '/home/riri/Documents/projects/pwd/Density_metrics/output/worldpop_gadm_level0.csv'\n",
    "landscan_path =  '/home/riri/Documents/projects/pwd/Density_metrics/output/landscan_gadm_level0.csv'\n",
    "shp_file = \"/home/riri/Documents/projects/pwd/data/gadm_full/gadm36_levels.gpkg\"\n",
    "\n",
    "df_ghs = pd.read_csv(ghs_path)\n",
    "df_gpw = pd.read_csv(gpw_path)\n",
    "df_worldpop = pd.read_csv(worldpop_path)\n",
    "df_landscan = pd.read_csv(landscan_path)\n",
    "df = pd.concat([df_ghs,df_gpw,df_worldpop,df_landscan], keys=[\"ghs\",\"gpw\",\"worldpop\",\"landscan\"]).reset_index()\n",
    "df = df.dropna()\n",
    "df[\"1km_population\"] = df[\"1km_population\"].astype(\"float\")\n",
    "df[\"5km_population\"] = df[\"5km_population\"].astype(\"float\")\n",
    "df[\"10km_population\"] = df[\"10km_population\"].astype(\"float\")\n",
    "df_shp = gpd.read_file(shp_file).drop(columns=\"geometry\")\n",
    "df_level0 = df_shp.merge(df,left_on=\"GID_0\",right_on=\"geoid\",how=\"left\").drop(columns=\"geoid\")"
   ]
  },
  {
   "cell_type": "markdown",
   "metadata": {},
   "source": [
    "### Gadmn level1"
   ]
  },
  {
   "cell_type": "code",
   "execution_count": 276,
   "metadata": {},
   "outputs": [
    {
     "name": "stderr",
     "output_type": "stream",
     "text": [
      "/home/riri/miniconda3/envs/geo_env/lib/python3.9/site-packages/geopandas/geodataframe.py:422: RuntimeWarning: Sequential read of iterator was interrupted. Resetting iterator. This can negatively impact the performance.\n",
      "  for feature in features_lst:\n"
     ]
    }
   ],
   "source": [
    "ghs_path = '/home/riri/Documents/projects/pwd/Density_metrics/output/ghsl_gadm_level1.csv'\n",
    "gpw_path = '/home/riri/Documents/projects/pwd/Density_metrics/output/gpw_gadm_level1.csv'\n",
    "worldpop_path = '/home/riri/Documents/projects/pwd/Density_metrics/output/worldpop_gadm_level1.csv'\n",
    "landscan_path =  '/home/riri/Documents/projects/pwd/Density_metrics/output/landscan_gadm_level1.csv'\n",
    "shp_file = \"/home/riri/Documents/projects/pwd/data/gadm_full/gadm36_levels.gpkg\"\n",
    "\n",
    "df_ghs = pd.read_csv(ghs_path)\n",
    "df_gpw = pd.read_csv(gpw_path)\n",
    "df_worldpop = pd.read_csv(worldpop_path)\n",
    "df_landscan = pd.read_csv(landscan_path)\n",
    "df = pd.concat([df_ghs,df_gpw,df_worldpop,df_landscan], keys=[\"ghs\",\"gpw\",\"worldpop\",\"landscan\"]).reset_index()\n",
    "df = df.dropna()\n",
    "df[\"1km_population\"] = df[\"1km_population\"].astype(\"float\")\n",
    "df[\"5km_population\"] = df[\"5km_population\"].astype(\"float\")\n",
    "df[\"10km_population\"] = df[\"10km_population\"].astype(\"float\")\n",
    "\n",
    "df_shp = gpd.read_file(shp_file,layer=\"level1\").drop(columns=\"geometry\")\n",
    "df_level1 = df_shp.merge(df,left_on=\"GID_1\",right_on=\"geoid\",how=\"left\").drop(columns=[\"VARNAME_1\",\"NL_NAME_1\",\"TYPE_1\",\"ENGTYPE_1\",\"CC_1\",\"HASC_1\",\"geoid\"])"
   ]
  },
  {
   "cell_type": "code",
   "execution_count": 278,
   "metadata": {},
   "outputs": [],
   "source": [
    "df = pd.concat([df_level0,df_level1])\n",
    "to_round = df.drop(columns=[\"1km_gini_index\", \"5km_gini_index\",\"10km_gini_index\"]).columns\n",
    "df[to_round] = df[to_round].round()\n",
    "\n",
    "columns_list = ['level_0',\n",
    " 'GID_0',\n",
    " 'NAME_0',\n",
    " 'GID_1',\n",
    " 'NAME_1',\n",
    " '1km_population',\n",
    " '1km_area',\n",
    " '1km_lived_cells',\n",
    " '1km_lived_density',\n",
    " '1km_gini_index',\n",
    " '1km_density',\n",
    " '1km_arithmetic_pwd',\n",
    " '1km_geometric_pwd',\n",
    " '5km_population',\n",
    " '5km_area',\n",
    " '5km_lived_cells',\n",
    " '5km_lived_density',\n",
    " '5km_gini_index',\n",
    " '5km_arithmetic_pwd',\n",
    " '5km_geometric_pwd',\n",
    " '10km_population',\n",
    " '10km_area',\n",
    " '10km_lived_cells',\n",
    " '10km_lived_density',\n",
    " '10km_gini_index',\n",
    " '10km_arithmetic_pwd',\n",
    " '10km_geometric_pwd']\n",
    "df = df[columns_list]\n",
    "\n",
    "df[\"5km_pop_error\"] = (abs(df[\"5km_population\"] - df[\"1km_population\"])/df[\"1km_population\"]*100).round(2)\n",
    "df[\"10km_pop_error\"] = (abs(df[\"10km_population\"] - df[\"1km_population\"])/df[\"1km_population\"]*100).round(2)\n",
    "df[\"5km_area_error\"] = (abs(df[\"5km_area\"] - df[\"1km_area\"])/df[\"1km_area\"]*100).round(2)\n",
    "df[\"10km_area_error\"] = (abs(df[\"10km_area\"] - df[\"1km_area\"])/df[\"1km_area\"]*100).round(2)\n",
    "\n",
    "df = df.drop(columns=[\"5km_population\",\"10km_population\",\"5km_area\",\"10km_area\"]).rename(columns={\"level_0\" : \"dataset\"})\n",
    "df.to_csv(\"density_gadm_2015_full.csv\",index=False)\n",
    "df.groupby(\"dataset\").mean().transpose().to_excel(\"gadm_averages.xlsx\")"
   ]
  },
  {
   "cell_type": "markdown",
   "metadata": {},
   "source": [
    "## Europe"
   ]
  },
  {
   "cell_type": "code",
   "execution_count": 288,
   "metadata": {},
   "outputs": [],
   "source": [
    "ghs_path = '/home/riri/Documents/projects/pwd/Density_metrics/output/ghsl_europe.csv'\n",
    "gpw_path = '/home/riri/Documents/projects/pwd/Density_metrics/output/gpw_europe.csv'\n",
    "worldpop_path = '/home/riri/Documents/projects/pwd/Density_metrics/output/worldpop_europe.csv'\n",
    "landscan_path =  '/home/riri/Documents/projects/pwd/Density_metrics/output/landscan_europe.csv'\n",
    "shp_file = \"/home/riri/Documents/projects/pwd/data/NUTS/NUTS_RG_01M_2021_4326.shp\"\n",
    "\n",
    "df_ghs = pd.read_csv(ghs_path)\n",
    "df_gpw = pd.read_csv(gpw_path)\n",
    "df_worldpop = pd.read_csv(worldpop_path)\n",
    "df_landscan = pd.read_csv(landscan_path)\n",
    "df = pd.concat([df_ghs,df_gpw,df_worldpop,df_landscan], keys=[\"ghs\",\"gpw\",\"worldpop\",\"landscan\"]).reset_index()\n",
    "df = df.dropna()\n",
    "df[\"1km_population\"] = df[\"1km_population\"].astype(\"float\")\n",
    "df[\"5km_population\"] = df[\"5km_population\"].astype(\"float\")\n",
    "df[\"10km_population\"] = df[\"10km_population\"].astype(\"float\")\n",
    "\n",
    "df_pop = pd.read_csv(\"/home/riri/Documents/projects/pwd/europe comparaison/output/demo_nuts.csv\").rename(columns={\"2015\" : \"official_pop\"})\n",
    "df = df_pop.merge(df, on=\"geoid\")\n",
    "df[\"official_pop\"] = df[\"official_pop\"].replace(\":\",\"0\").astype(\"float64\")\n",
    "df[\"pop_error\"] = abs(df[\"1km_population\"] - df[\"official_pop\"])/df[\"official_pop\"]*100\n",
    "df[\"pop_error\"] = df[\"pop_error\"].replace(np.inf,np.nan)\n",
    "\n",
    "df_shp = gpd.read_file(shp_file)\n",
    "df = df_shp[[\"NUTS_ID\",\"LEVL_CODE\",\"CNTR_CODE\",\"NUTS_NAME\"]].merge(df, left_on=\"NUTS_ID\",right_on=\"geoid\").drop(columns=[\"level_1\",\"geoid\"])\n",
    "df.insert(6,\"popu_error\",df[\"pop_error\"])\n"
   ]
  },
  {
   "cell_type": "code",
   "execution_count": 289,
   "metadata": {},
   "outputs": [],
   "source": [
    "to_round = df.drop(columns=[\"1km_gini_index\", \"5km_gini_index\",\"10km_gini_index\"]).columns\n",
    "df[to_round] = df[to_round].round()\n",
    "\n",
    "df[\"5km_pop_error\"] = (abs(df[\"5km_population\"] - df[\"1km_population\"])/df[\"1km_population\"]*100).round(2)\n",
    "df[\"10km_pop_error\"] = (abs(df[\"10km_population\"] - df[\"1km_population\"])/df[\"1km_population\"]*100).round(2)\n",
    "df[\"5km_area_error\"] = (abs(df[\"5km_area\"] - df[\"1km_area\"])/df[\"1km_area\"]*100).round(2)\n",
    "df[\"10km_area_error\"] = (abs(df[\"10km_area\"] - df[\"1km_area\"])/df[\"1km_area\"]*100).round(2)\n",
    "\n",
    "df = df.drop(columns=[\"5km_population\",\"10km_population\",\"5km_area\",\"10km_area\", \"pop_error\"])\n",
    "df.insert(0, \"dataset\",df[\"level_0\"])\n",
    "df.to_csv(\"density_europe_2015.csv\")\n",
    "df.groupby(\"dataset\").mean().transpose().to_excel(\"europe_averages.xlsx\")"
   ]
  },
  {
   "cell_type": "markdown",
   "metadata": {},
   "source": [
    "## US Counties"
   ]
  },
  {
   "cell_type": "code",
   "execution_count": 285,
   "metadata": {},
   "outputs": [],
   "source": [
    "ghs_path = '/home/riri/Documents/projects/pwd/Density_metrics/output/ghsl_US_counties.csv'\n",
    "gpw_path = '/home/riri/Documents/projects/pwd/Density_metrics/output/gpw_US_counties.csv'\n",
    "worldpop_path = '/home/riri/Documents/projects/pwd/Density_metrics/output/worldpop_US_counties.csv'\n",
    "landscan_path =  '/home/riri/Documents/projects/pwd/Density_metrics/output/landscan_US_counties.csv'\n",
    "shp_file = \"/home/riri/Documents/projects/pwd/data/gadm36_USA_shp/gadm36_USA_2.shp\"\n",
    "pop_numbers = \"/home/riri/Documents/projects/pwd/pwd us/co-est2019-alldata.csv\"\n",
    "\n",
    "df_ghs = pd.read_csv(ghs_path)\n",
    "df_gpw = pd.read_csv(gpw_path)\n",
    "df_worldpop = pd.read_csv(worldpop_path)\n",
    "df_landscan = pd.read_csv(landscan_path)\n",
    "df = pd.concat([df_ghs,df_gpw,df_worldpop,df_landscan], keys=[\"ghs\",\"gpw\",\"worldpop\",\"landscan\"]).reset_index()\n",
    "df = df.dropna()\n",
    "\n",
    "df_of = pd.read_csv(pop_numbers, encoding=\"iso-8859-1\")\n",
    "df_of['CTYNAME'] = df_of['CTYNAME'].str.replace(\"County\",\"\").str.strip()\n",
    "df_of = df_of[[\"STNAME\",\"CTYNAME\",\"POPESTIMATE2015\"]]\n",
    "\n",
    "\n",
    "df[\"1km_population\"] = df[\"1km_population\"].astype(\"float\")\n",
    "df[\"5km_population\"] = df[\"5km_population\"].astype(\"float\")\n",
    "df[\"10km_population\"] = df[\"10km_population\"].astype(\"float\")\n",
    "\n",
    "df_shp = gpd.read_file(shp_file).drop(columns=\"geometry\")\n",
    "df = df_shp.merge(df,left_on=\"GID_2\",right_on=\"geoid\",how=\"left\").drop(columns=[\"VARNAME_2\",\"NL_NAME_2\",\"TYPE_2\",\"ENGTYPE_2\",\"CC_2\",\"HASC_2\",\"geoid\"])\n",
    "\n",
    "df_of = pd.read_csv(pop_numbers, encoding=\"iso-8859-1\")\n",
    "df_of['CTYNAME'] = df_of['CTYNAME'].str.replace(\"County\",\"\").str.strip()\n",
    "df_of = df_of[[\"STNAME\",\"CTYNAME\",\"POPESTIMATE2015\"]]\n",
    "\n",
    "df = df_of.merge(df, right_on=[\"NAME_1\",\"NAME_2\"],left_on=[\"STNAME\",\"CTYNAME\"], how=\"right\").drop(columns=[\"STNAME\",\"CTYNAME\"])\n",
    "df[\"pop_error\"] = abs(df[\"1km_population\"] - df[\"POPESTIMATE2015\"])/df[\"POPESTIMATE2015\"]*100"
   ]
  },
  {
   "cell_type": "code",
   "execution_count": 286,
   "metadata": {},
   "outputs": [],
   "source": [
    "to_round = df.drop(columns=[\"1km_gini_index\", \"5km_gini_index\",\"10km_gini_index\"]).columns\n",
    "df[to_round] = df[to_round].round()\n",
    "\n",
    "columns_list = ['level_0',\n",
    " 'GID_1',\n",
    " 'NAME_1',\n",
    " 'GID_2',\n",
    " 'NAME_2',\n",
    " 'POPESTIMATE2015',\n",
    " '1km_population',\n",
    "  'pop_error',              \n",
    " '1km_area',\n",
    " '1km_lived_cells',\n",
    " '1km_lived_density',\n",
    " '1km_gini_index',\n",
    " '1km_density',\n",
    " '1km_arithmetic_pwd',\n",
    " '1km_geometric_pwd',\n",
    " '5km_population',\n",
    " '5km_area',\n",
    " '5km_lived_cells',\n",
    " '5km_lived_density',\n",
    " '5km_gini_index',\n",
    " '5km_arithmetic_pwd',\n",
    " '5km_geometric_pwd',\n",
    " '10km_population',\n",
    " '10km_area',\n",
    " '10km_lived_cells',\n",
    " '10km_lived_density',\n",
    " '10km_gini_index',\n",
    " '10km_arithmetic_pwd',\n",
    " '10km_geometric_pwd']\n",
    "df = df[columns_list]\n",
    "\n",
    "df[\"5km_pop_error\"] = (abs(df[\"5km_population\"] - df[\"1km_population\"])/df[\"1km_population\"]*100).round(2)\n",
    "df[\"10km_pop_error\"] = (abs(df[\"10km_population\"] - df[\"1km_population\"])/df[\"1km_population\"]*100).round(2)\n",
    "df[\"5km_area_error\"] = (abs(df[\"5km_area\"] - df[\"1km_area\"])/df[\"1km_area\"]*100).round(2)\n",
    "df[\"10km_area_error\"] = (abs(df[\"10km_area\"] - df[\"1km_area\"])/df[\"1km_area\"]*100).round(2)\n",
    "\n",
    "df = df.drop(columns=[\"5km_population\",\"10km_population\",\"5km_area\",\"10km_area\"]).rename(columns={\"level_0\" : \"dataset\"})\n",
    "df.to_csv(\"density_US_2015.csv\",index=False)\n",
    "df.groupby(\"dataset\").mean().transpose().to_excel(\"us_averages.xlsx\")"
   ]
  }
 ],
 "metadata": {
  "kernelspec": {
   "display_name": "Python 3",
   "language": "python",
   "name": "python3"
  },
  "language_info": {
   "codemirror_mode": {
    "name": "ipython",
    "version": 3
   },
   "file_extension": ".py",
   "mimetype": "text/x-python",
   "name": "python",
   "nbconvert_exporter": "python",
   "pygments_lexer": "ipython3",
   "version": "3.9.1"
  }
 },
 "nbformat": 4,
 "nbformat_minor": 4
}
